{
  "nbformat": 4,
  "nbformat_minor": 0,
  "metadata": {
    "colab": {
      "name": "GBM",
      "provenance": [],
      "authorship_tag": "ABX9TyMKkvDst8hnTZvKkom6+Pgm",
      "include_colab_link": true
    },
    "kernelspec": {
      "name": "python3",
      "display_name": "Python 3"
    }
  },
  "cells": [
    {
      "cell_type": "markdown",
      "metadata": {
        "id": "view-in-github",
        "colab_type": "text"
      },
      "source": [
        "<a href=\"https://colab.research.google.com/github/jewap8780/HelloGit/blob/master/GBM.ipynb\" target=\"_parent\"><img src=\"https://colab.research.google.com/assets/colab-badge.svg\" alt=\"Open In Colab\"/></a>"
      ]
    },
    {
      "cell_type": "code",
      "metadata": {
        "id": "dyR8w2xKjwiL",
        "colab_type": "code",
        "colab": {}
      },
      "source": [
        "import pandas as pd\n",
        "url = 'https://raw.githubusercontent.com/PinkWink/ML_tutorial/'+\\\n",
        "                                    'master/dataset/HAR_dataset/features.txt'\n",
        "feature_name_df = pd.read_csv(url, sep=\"\\s+\", header=None,\n",
        "                             names=[\"column_index\", \"column_name\"])\n",
        "feature_name = feature_name_df.iloc[:,1].values.tolist()\n",
        "\n",
        "X_train_url = 'https://raw.githubusercontent.com/PinkWink/ML_tutorial/'+\\\n",
        "                                'master/dataset/HAR_dataset/train/X_train.txt'\n",
        "X_test_url = 'https://raw.githubusercontent.com/PinkWink/ML_tutorial/' +\\\n",
        "                                'master/dataset/HAR_dataset/test/X_test.txt'\n",
        "\n",
        "X_train = pd.read_csv(X_train_url, sep='\\s+', header=None)\n",
        "X_test = pd.read_csv(X_test_url, sep='\\s+', header=None)\n",
        "X_train.columns = feature_name\n",
        "X_test.columns = feature_name\n"
      ],
      "execution_count": 1,
      "outputs": []
    },
    {
      "cell_type": "code",
      "metadata": {
        "id": "sSg4sMjSsD6O",
        "colab_type": "code",
        "colab": {}
      },
      "source": [
        "y_train_url = 'https://raw.githubusercontent.com/PinkWink/ML_tutorial/'+\\\n",
        "                                'master/dataset/HAR_dataset/train/y_train.txt'\n",
        "y_test_url = 'https://raw.githubusercontent.com/PinkWink/ML_tutorial/' +\\\n",
        "                                'master/dataset/HAR_dataset/test/y_test.txt'\n",
        "\n",
        "y_train = pd.read_csv(y_train_url, sep='\\s+', header=None, names=[\"action\"])\n",
        "y_test = pd.read_csv(y_test_url, sep='\\s+', header=None, names=[\"action\"])"
      ],
      "execution_count": 2,
      "outputs": []
    },
    {
      "cell_type": "code",
      "metadata": {
        "id": "XhIcGOeksIS2",
        "colab_type": "code",
        "colab": {}
      },
      "source": [
        "from sklearn.ensemble import GradientBoostingClassifier\n",
        "from sklearn.metrics import accuracy_score\n",
        "import time\n",
        "import warnings\n",
        "\n",
        "warnings.filterwarnings(\"ignore\")"
      ],
      "execution_count": 3,
      "outputs": []
    },
    {
      "cell_type": "code",
      "metadata": {
        "id": "KqKJ8j-TsMUH",
        "colab_type": "code",
        "colab": {
          "base_uri": "https://localhost:8080/",
          "height": 53
        },
        "outputId": "bd454933-bfa7-447b-8850-2b2a886d9fac"
      },
      "source": [
        "start_time = time.time()\n",
        "gb_clf = GradientBoostingClassifier(random_state=13)\n",
        "gb_clf.fit(X_train, y_train)\n",
        "gb_pred = gb_clf.predict(X_test)\n",
        "\n",
        "print(\"ACC : \", accuracy_score(y_test, gb_pred))\n",
        "print(\"Fit time : \", time.time() - start_time)"
      ],
      "execution_count": 4,
      "outputs": [
        {
          "output_type": "stream",
          "text": [
            "ACC :  0.9385816084153377\n",
            "Fit time :  788.4059638977051\n"
          ],
          "name": "stdout"
        }
      ]
    },
    {
      "cell_type": "code",
      "metadata": {
        "id": "EE129T1zsO37",
        "colab_type": "code",
        "colab": {}
      },
      "source": [
        ""
      ],
      "execution_count": null,
      "outputs": []
    }
  ]
}